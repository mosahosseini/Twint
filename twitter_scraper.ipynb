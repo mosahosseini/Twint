{
 "cells": [
  {
   "cell_type": "markdown",
   "metadata": {},
   "source": [
    "## Have to install these packages \n"
   ]
  },
  {
   "cell_type": "code",
   "execution_count": 1,
   "metadata": {
    "scrolled": true
   },
   "outputs": [],
   "source": [
    "%%capture \n",
    "!pip3 install Twint \n",
    "#!pip install asyncio\n",
    "\n"
   ]
  },
  {
   "cell_type": "code",
   "execution_count": 2,
   "metadata": {},
   "outputs": [],
   "source": [
    "%%capture \n",
    "!pip3 install -r requirements.txt"
   ]
  },
  {
   "cell_type": "code",
   "execution_count": 3,
   "metadata": {},
   "outputs": [],
   "source": [
    "import asyncio\n",
    "import os\n",
    "loop = asyncio.get_event_loop()\n",
    "loop.is_running()\n",
    "import twint\n",
    "import nest_asyncio\n",
    "nest_asyncio.apply()"
   ]
  },
  {
   "cell_type": "code",
   "execution_count": 4,
   "metadata": {},
   "outputs": [],
   "source": [
    "import scrape\n"
   ]
  },
  {
   "cell_type": "code",
   "execution_count": 6,
   "metadata": {},
   "outputs": [
    {
     "name": "stdout",
     "output_type": "stream",
     "text": [
      "[+] Finished: Successfully collected 120 Tweets_and_replies.\n"
     ]
    },
    {
     "data": {
      "text/plain": [
       "(120, 9)"
      ]
     },
     "execution_count": 6,
     "metadata": {},
     "output_type": "execute_result"
    }
   ],
   "source": [
    "\n",
    "n_tweets= 109\n",
    "f_date= \"2005-06-01\"\n",
    "User_name= \"jimmieakesson\"\n",
    "String_search= \"invandring\"\n",
    "sc = scrape.TwitterScraper(from_date= f_date ,num_tweets =n_tweets)\n",
    "df=sc.scrape_by_user(User_name )\n",
    "\n",
    "\n",
    "df.shape"
   ]
  },
  {
   "cell_type": "code",
   "execution_count": null,
   "metadata": {},
   "outputs": [],
   "source": [
    "num_tweets = 1000\n",
    "User_name= \"jimmieakesson\"\n",
    "_data=scrape.scraper.get_tweets(User_name, num_tweets= 1000,u_or_s=\"u\")"
   ]
  },
  {
   "cell_type": "code",
   "execution_count": null,
   "metadata": {},
   "outputs": [],
   "source": [
    "'''\n",
    "_keys=tweet_info[\"id\"]\n",
    "\n",
    "for i in range (len(_keys)):\n",
    "      if _keys[i] in _dict.keys() or tweet_info[\"tweet\"][i].startswith(\"@\"):\n",
    "        pass\n",
    "      else:\n",
    "        _dict[int(_keys[i])] = {\"tweet\": tweet_info[\"tweet\"][i],\n",
    "                                \"date\" :tweet_info[\"date\"][i],\n",
    "                                \"nlikes\": tweet_info[\"nlikes\"][i],\n",
    "                                \"nreplies\":tweet_info[\"nreplies\"][i] , \n",
    "                                \"nretweets\": tweet_info[\"nretweets\"][i],\"topic\":\"\"}\n",
    "        if len(list(_dict.keys()))==num_tweets:\n",
    "            pass\n",
    "\n",
    "print(len(list(_dict.keys())), \" of them are Tweets\")\n",
    "'''"
   ]
  }
 ],
 "metadata": {
  "kernelspec": {
   "display_name": "Python 3",
   "language": "python",
   "name": "python3"
  },
  "language_info": {
   "codemirror_mode": {
    "name": "ipython",
    "version": 3
   },
   "file_extension": ".py",
   "mimetype": "text/x-python",
   "name": "python",
   "nbconvert_exporter": "python",
   "pygments_lexer": "ipython3",
   "version": "3.7.3"
  },
  "vscode": {
   "interpreter": {
    "hash": "916dbcbb3f70747c44a77c7bcd40155683ae19c65e1c03b4aa3499c5328201f1"
   }
  }
 },
 "nbformat": 4,
 "nbformat_minor": 5
}
